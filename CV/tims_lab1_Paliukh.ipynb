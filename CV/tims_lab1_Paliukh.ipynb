{
 "cells": [
  {
   "cell_type": "code",
   "execution_count": null,
   "metadata": {
    "vscode": {
     "languageId": "plaintext"
    }
   },
   "outputs": [],
   "source": [
    "import numpy as np\n",
    "from collections import defaultdict\n",
    "import random\n",
    "import pandas as pd\n",
    "import matplotlib.pyplot as plt\n",
    "\n",
    "n = int(input('Enter volume: '))\n",
    "\n",
    "# Генеруємо числа та рахуємо кількість\n",
    "counts = defaultdict(int)\n",
    "for _ in range(n):\n",
    "    num = random.randint(10, 20)\n",
    "    counts[num] += 1\n",
    "\n",
    "# Створюємо DataFrame зі стовпцями xi та ni\n",
    "df = pd.DataFrame({\n",
    "    'xi': list(counts.keys()),\n",
    "    'ni': list(counts.values())\n",
    "}).sort_values('xi')  # Сортуємо за зростанням xi\n",
    "\n",
    "# Виводимо DataFrame для перевірки (стовпці xi та ni)\n",
    "print(\"\\nDataFrame:\")\n",
    "print(df.to_string(index=False))  # Вимикаємо індекси для чистого вигляду\n",
    "\n",
    "# Будуємо графік-ламану з точками\n",
    "plt.figure(figsize=(10, 5))\n",
    "plt.plot(df['xi'], df['ni'], 'o-', markersize=8, linewidth=2, color='blue')\n",
    "plt.title('Частота чисел від 10 до 20')\n",
    "plt.xlabel('xi (число)')\n",
    "plt.ylabel('ni (кількість)')\n",
    "plt.xticks(df['xi'])  # Всі значення xi на осі X\n",
    "plt.grid(True, linestyle='--', alpha=0.7)\n",
    "plt.show()"
   ]
  }
 ],
 "metadata": {
  "language_info": {
   "name": "python"
  }
 },
 "nbformat": 4,
 "nbformat_minor": 2
}
